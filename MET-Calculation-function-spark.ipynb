{
 "cells": [
  {
   "cell_type": "code",
   "execution_count": 1,
   "metadata": {},
   "outputs": [],
   "source": [
    "import os\n",
    "os.environ[\"PYARROW_IGNORE_TIMEZONE\"] = \"1\""
   ]
  },
  {
   "cell_type": "code",
   "execution_count": 13,
   "metadata": {},
   "outputs": [],
   "source": [
    "from pyspark.sql import SparkSession\n",
    "from pyspark.sql import functions as F\n",
    "from pyspark.sql.types import StringType, StructType, IntegerType, StructField, FloatType\n",
    "import pyspark.pandas as ps\n",
    "import numpy as np\n",
    "import pandas as pd"
   ]
  },
  {
   "cell_type": "code",
   "execution_count": 14,
   "metadata": {},
   "outputs": [],
   "source": [
    "spark = SparkSession.builder.master('spark://localhost:7077').appName(\"demo\").getOrCreate()"
   ]
  },
  {
   "cell_type": "code",
   "execution_count": 15,
   "metadata": {},
   "outputs": [
    {
     "data": {
      "text/html": [
       "\n",
       "            <div>\n",
       "                <p><b>SparkSession - in-memory</b></p>\n",
       "                \n",
       "        <div>\n",
       "            <p><b>SparkContext</b></p>\n",
       "\n",
       "            <p><a href=\"http://macbooks-mbp-2.lan:4040\">Spark UI</a></p>\n",
       "\n",
       "            <dl>\n",
       "              <dt>Version</dt>\n",
       "                <dd><code>v3.5.0</code></dd>\n",
       "              <dt>Master</dt>\n",
       "                <dd><code>spark://localhost:7077</code></dd>\n",
       "              <dt>AppName</dt>\n",
       "                <dd><code>demo</code></dd>\n",
       "            </dl>\n",
       "        </div>\n",
       "        \n",
       "            </div>\n",
       "        "
      ],
      "text/plain": [
       "<pyspark.sql.session.SparkSession at 0x119167e10>"
      ]
     },
     "execution_count": 15,
     "metadata": {},
     "output_type": "execute_result"
    }
   ],
   "source": [
    "spark"
   ]
  },
  {
   "cell_type": "code",
   "execution_count": 4,
   "metadata": {},
   "outputs": [
    {
     "name": "stderr",
     "output_type": "stream",
     "text": [
      "/var/folders/g6/l20t9mcd5tg5vjnfwzh01d4r0000gn/T/ipykernel_87465/3798560560.py:5: FutureWarning: Argument `closed` is deprecated in favor of `inclusive`.\n",
      "  date_range = pd.date_range(start=\"2024-01-01\", end=\"2024-01-30\", freq = \"D\", closed=None)\n"
     ]
    }
   ],
   "source": [
    "user_id = 1234\n",
    "np.random.seed(0)\n",
    "\n",
    "# generate data range\n",
    "date_range = pd.date_range(start=\"2024-01-01\", end=\"2024-01-30\", freq = \"D\", closed=None)\n",
    "repeated_dates = pd.to_datetime(np.repeat(date_range, 5))\n",
    "\n",
    "new_time_samples = [ \"00:00:00\", \"08:00:00\", \"12:00:00\", \"16:00:00\", \"20:00:00\"]\n",
    "new_time_data = np.tile(new_time_samples, len(date_range))\n",
    "# new_time_date_data = [pd.to_datetime(str(date) + ' ' + str(time)) for date, time in zip(repeated_dates, new_time_data)]\n",
    "new_time_date_data = pd.to_datetime(repeated_dates) + pd.to_timedelta(new_time_data)\n",
    "# generate time\n",
    "time_samples = [\"20:41:00\", \"14:48:00\", \"14:47:00\", \"14:46:00\", \"14:45:00\", \"09:32:00\", \"04:48:00\", \"09:27:00\", \"02:21:00\", \"09:34:00\"]\n",
    "time_data = np.random.choice(time_samples, size=len(date_range))\n",
    "\n",
    "# heart rate\n",
    "heart_rate_data = np.random.randint(low=60, high=120, size=len(repeated_dates)).tolist()\n",
    "\n",
    "# calories\n",
    "calories_data = np.concatenate([\n",
    "    np.random.uniform(1, 2, size=int(len(repeated_dates) * 0.9)), \n",
    "    np.random.uniform(2, 9, size=int(len(repeated_dates) * 0.1)) \n",
    "])\n",
    "# make data disorder\n",
    "np.random.shuffle(calories_data)\n",
    "calories_data = calories_data.tolist()\n",
    "\n",
    "# weight\n",
    "weight_data = np.random.uniform(62, 78, size=len(repeated_dates)).tolist()\n"
   ]
  },
  {
   "cell_type": "code",
   "execution_count": 8,
   "metadata": {},
   "outputs": [
    {
     "name": "stdout",
     "output_type": "stream",
     "text": [
      "+--------------------+-------+-------------------+----------+\n",
      "|               email|user_id|          date_time|heart_rate|\n",
      "+--------------------+-------+-------------------+----------+\n",
      "|pps006@cancerbase...|   1234|2024-01-01 00:00:00|        78|\n",
      "|pps006@cancerbase...|   1234|2024-01-01 08:00:00|        95|\n",
      "|pps006@cancerbase...|   1234|2024-01-01 12:00:00|        84|\n",
      "|pps006@cancerbase...|   1234|2024-01-01 16:00:00|       109|\n",
      "|pps006@cancerbase...|   1234|2024-01-01 20:00:00|       111|\n",
      "|pps006@cancerbase...|   1234|2024-01-02 00:00:00|        89|\n",
      "|pps006@cancerbase...|   1234|2024-01-02 08:00:00|        79|\n",
      "|pps006@cancerbase...|   1234|2024-01-02 12:00:00|        79|\n",
      "|pps006@cancerbase...|   1234|2024-01-02 16:00:00|        74|\n",
      "|pps006@cancerbase...|   1234|2024-01-02 20:00:00|        99|\n",
      "|pps006@cancerbase...|   1234|2024-01-03 00:00:00|        92|\n",
      "|pps006@cancerbase...|   1234|2024-01-03 08:00:00|        61|\n",
      "|pps006@cancerbase...|   1234|2024-01-03 12:00:00|        69|\n",
      "|pps006@cancerbase...|   1234|2024-01-03 16:00:00|       117|\n",
      "|pps006@cancerbase...|   1234|2024-01-03 20:00:00|        92|\n",
      "|pps006@cancerbase...|   1234|2024-01-04 00:00:00|        91|\n",
      "|pps006@cancerbase...|   1234|2024-01-04 08:00:00|        70|\n",
      "|pps006@cancerbase...|   1234|2024-01-04 12:00:00|       112|\n",
      "|pps006@cancerbase...|   1234|2024-01-04 16:00:00|        83|\n",
      "|pps006@cancerbase...|   1234|2024-01-04 20:00:00|        95|\n",
      "+--------------------+-------+-------------------+----------+\n",
      "only showing top 20 rows\n",
      "\n",
      "+--------------------+-------+-------------------+------------------+\n",
      "|               email|user_id|          date_time|          calories|\n",
      "+--------------------+-------+-------------------+------------------+\n",
      "|pps006@cancerbase...|   1234|2024-01-01 00:00:00| 1.463450977384483|\n",
      "|pps006@cancerbase...|   1234|2024-01-01 08:00:00|1.2294418344710454|\n",
      "|pps006@cancerbase...|   1234|2024-01-01 12:00:00| 1.050588115054237|\n",
      "|pps006@cancerbase...|   1234|2024-01-01 16:00:00|7.1130952359675605|\n",
      "|pps006@cancerbase...|   1234|2024-01-01 20:00:00| 1.675439081200236|\n",
      "|pps006@cancerbase...|   1234|2024-01-02 00:00:00|1.7670237035587268|\n",
      "|pps006@cancerbase...|   1234|2024-01-02 08:00:00| 1.645784598501899|\n",
      "|pps006@cancerbase...|   1234|2024-01-02 12:00:00|1.4717515708928013|\n",
      "|pps006@cancerbase...|   1234|2024-01-02 16:00:00|1.8802976031150047|\n",
      "|pps006@cancerbase...|   1234|2024-01-02 20:00:00|1.9441235194354545|\n",
      "|pps006@cancerbase...|   1234|2024-01-03 00:00:00| 3.504165157254047|\n",
      "|pps006@cancerbase...|   1234|2024-01-03 08:00:00|1.8642814426862446|\n",
      "|pps006@cancerbase...|   1234|2024-01-03 12:00:00|1.5696184059233067|\n",
      "|pps006@cancerbase...|   1234|2024-01-03 16:00:00|1.6176579160958802|\n",
      "|pps006@cancerbase...|   1234|2024-01-03 20:00:00|1.9441197509175634|\n",
      "|pps006@cancerbase...|   1234|2024-01-04 00:00:00| 6.723931421500845|\n",
      "|pps006@cancerbase...|   1234|2024-01-04 08:00:00| 7.882999727748027|\n",
      "|pps006@cancerbase...|   1234|2024-01-04 12:00:00|1.9764043865930425|\n",
      "|pps006@cancerbase...|   1234|2024-01-04 16:00:00| 1.221262685183783|\n",
      "|pps006@cancerbase...|   1234|2024-01-04 20:00:00|1.1162019096123945|\n",
      "+--------------------+-------+-------------------+------------------+\n",
      "only showing top 20 rows\n",
      "\n",
      "+--------------------+-------+-------------------+------------------+\n",
      "|               email|user_id|          date_time|         weight_kg|\n",
      "+--------------------+-------+-------------------+------------------+\n",
      "|pps006@cancerbase...|   1234|2024-01-01 00:00:00|62.565798972087855|\n",
      "|pps006@cancerbase...|   1234|2024-01-01 08:00:00| 68.88643903212898|\n",
      "|pps006@cancerbase...|   1234|2024-01-01 12:00:00|   70.160269637092|\n",
      "|pps006@cancerbase...|   1234|2024-01-01 16:00:00| 70.57883991525523|\n",
      "|pps006@cancerbase...|   1234|2024-01-01 20:00:00| 72.90228016966141|\n",
      "|pps006@cancerbase...|   1234|2024-01-02 00:00:00| 66.44153756370825|\n",
      "|pps006@cancerbase...|   1234|2024-01-02 08:00:00| 64.06176904746113|\n",
      "|pps006@cancerbase...|   1234|2024-01-02 12:00:00| 68.28281082475351|\n",
      "|pps006@cancerbase...|   1234|2024-01-02 16:00:00| 77.30249156473518|\n",
      "|pps006@cancerbase...|   1234|2024-01-02 20:00:00| 64.99409426801351|\n",
      "|pps006@cancerbase...|   1234|2024-01-03 00:00:00|  76.4637432788518|\n",
      "|pps006@cancerbase...|   1234|2024-01-03 08:00:00| 70.70089520123722|\n",
      "|pps006@cancerbase...|   1234|2024-01-03 12:00:00| 69.31058274633226|\n",
      "|pps006@cancerbase...|   1234|2024-01-03 16:00:00| 76.11266256367823|\n",
      "|pps006@cancerbase...|   1234|2024-01-03 20:00:00| 69.33766338829737|\n",
      "|pps006@cancerbase...|   1234|2024-01-04 00:00:00|  73.5866821857847|\n",
      "|pps006@cancerbase...|   1234|2024-01-04 08:00:00| 68.38440514724964|\n",
      "|pps006@cancerbase...|   1234|2024-01-04 12:00:00| 76.46471028641533|\n",
      "|pps006@cancerbase...|   1234|2024-01-04 16:00:00| 73.04040032305964|\n",
      "|pps006@cancerbase...|   1234|2024-01-04 20:00:00| 73.19395286800827|\n",
      "+--------------------+-------+-------------------+------------------+\n",
      "only showing top 20 rows\n",
      "\n"
     ]
    }
   ],
   "source": [
    "heart_rate_df = spark.createDataFrame(data =\n",
    "    [\n",
    "       (\"pps006@cancerbase.org\", user_id, date_time.to_pydatetime(), heart_rate) \n",
    "        for _, _, date_time, heart_rate in \n",
    "        zip(range(len(repeated_dates)), range(len(repeated_dates)), new_time_date_data, heart_rate_data)\n",
    "    ],\n",
    "    schema=[\"email\", \"user_id\", \"date_time\", \"heart_rate\"]\n",
    ")\n",
    "\n",
    "calorie_df = spark.createDataFrame(data =\n",
    "    [\n",
    "       (\"pps006@cancerbase.org\", user_id, date_time.to_pydatetime(), cal) \n",
    "        for _, _, date_time, cal in \n",
    "        zip(range(len(repeated_dates)), range(len(repeated_dates)), new_time_date_data, calories_data)\n",
    "    ],\n",
    "    schema=[\"email\", \"user_id\", \"date_time\", \"calories\"]\n",
    ")\n",
    "\n",
    "weight_df = spark.createDataFrame(data =\n",
    "    [\n",
    "       (\"pps006@cancerbase.org\", user_id, date_time.to_pydatetime(), weight) \n",
    "        for _, _, date_time, weight in \n",
    "        zip(range(len(repeated_dates)), range(len(repeated_dates)), new_time_date_data, weight_data)\n",
    "    ],\n",
    "    schema=[\"email\", \"user_id\", \"date_time\", \"weight_kg\"]\n",
    ")\n",
    "heart_rate_df.show()\n",
    "calorie_df.show()\n",
    "weight_df.show()"
   ]
  },
  {
   "cell_type": "markdown",
   "metadata": {},
   "source": [
    "# Calculate Mets"
   ]
  },
  {
   "cell_type": "code",
   "execution_count": 9,
   "metadata": {},
   "outputs": [
    {
     "name": "stderr",
     "output_type": "stream",
     "text": [
      "                                                                                \r"
     ]
    },
    {
     "name": "stdout",
     "output_type": "stream",
     "text": [
      "+-------------------+----------+----------+------------------+-----------------+------------------+-------------------+\n",
      "|          date_time|      date|heart_rate|          calories|        weight_kg|             joule|               mets|\n",
      "+-------------------+----------+----------+------------------+-----------------+------------------+-------------------+\n",
      "|2024-01-12 20:00:00|2024-01-12|       102|1.3118602206821892|62.24969703114925|  5.48882316333428|0.22545701565321616|\n",
      "|2024-01-12 20:00:00|2024-01-12|       102|1.3118602206821892|62.52919346360809|  5.48882316333428|0.22444925546861433|\n",
      "|2024-01-12 20:00:00|2024-01-12|       102|1.3118602206821892|71.83143530362999|  5.48882316333428| 0.1953828551334898|\n",
      "|2024-01-12 20:00:00|2024-01-12|       102|1.3118602206821892|65.72390606846491|  5.48882316333428|0.21353920905644042|\n",
      "|2024-01-12 20:00:00|2024-01-12|       102|1.3118602206821892|67.22721410829216|  5.48882316333428| 0.2087641307782331|\n",
      "|2024-01-04 08:00:00|2024-01-04|        70| 7.882999727748027|73.19395286800827| 32.98247086089775|  1.152204965116286|\n",
      "|2024-01-04 08:00:00|2024-01-04|        70| 7.882999727748027|73.04040032305964| 32.98247086089775| 1.1546272410610168|\n",
      "|2024-01-04 08:00:00|2024-01-04|        70| 7.882999727748027|76.46471028641533| 32.98247086089775| 1.1029197076025457|\n",
      "|2024-01-04 08:00:00|2024-01-04|        70| 7.882999727748027|68.38440514724964| 32.98247086089775| 1.2332407619750774|\n",
      "|2024-01-04 08:00:00|2024-01-04|        70| 7.882999727748027| 73.5866821857847| 32.98247086089775|  1.146055691138336|\n",
      "|2024-01-11 08:00:00|2024-01-11|        78|1.6805446911927795|69.26659835052082|  7.03139898795059| 0.2595611196926886|\n",
      "|2024-01-11 08:00:00|2024-01-11|        78|1.6805446911927795|75.91181648874611|  7.03139898795059| 0.2368394889856217|\n",
      "|2024-01-11 08:00:00|2024-01-11|        78|1.6805446911927795|77.12482453566527|  7.03139898795059|0.23311451187614474|\n",
      "|2024-01-11 08:00:00|2024-01-11|        78|1.6805446911927795|63.59383888354034|  7.03139898795059| 0.2827147431387148|\n",
      "|2024-01-11 08:00:00|2024-01-11|        78|1.6805446911927795|76.86866267684343|  7.03139898795059|0.23389135701174416|\n",
      "|2024-01-06 20:00:00|2024-01-06|        65| 3.075860135054575|75.72356230709687|12.869398805068343|0.43455923098884325|\n",
      "|2024-01-06 20:00:00|2024-01-06|        65| 3.075860135054575|71.45574664517896|12.869398805068343| 0.4605140181000114|\n",
      "|2024-01-06 20:00:00|2024-01-06|        65| 3.075860135054575|69.33022123616068|12.869398805068343|0.47463245345515703|\n",
      "|2024-01-06 20:00:00|2024-01-06|        65| 3.075860135054575|77.34666564856356|12.869398805068343|0.42544009787600834|\n",
      "|2024-01-06 20:00:00|2024-01-06|        65| 3.075860135054575|74.74226359227731|12.869398805068343|0.44026460294825487|\n",
      "+-------------------+----------+----------+------------------+-----------------+------------------+-------------------+\n",
      "only showing top 20 rows\n",
      "\n"
     ]
    }
   ],
   "source": [
    "def get_mets(heart_rate_df, calorie_df, weight_df):\n",
    "    merged_df = heart_rate_df.join(calorie_df, on='date_time', how='left').select(heart_rate_df['date_time'], 'heart_rate', 'calories') \n",
    "    \n",
    "    merged_df = merged_df.withColumn('date', F.to_date(F.col('date_time')))\n",
    "    weight_df = weight_df.withColumn('date', F.to_date(F.col('date_time')))    \n",
    "    \n",
    "    merged_df = merged_df.join(weight_df, on=merged_df.date==weight_df.date, how='left').select(merged_df['date_time'], merged_df['date'],'heart_rate', 'calories','weight_kg')\n",
    "    \n",
    "    merged_df = merged_df.withColumn('joule', F.col('calories')* 4.184)\n",
    "    \n",
    "    merged_df = merged_df.withColumn('mets', (F.col('joule')/F.col('weight_kg')))\n",
    "    \n",
    "    # if(merged_df.shape[0] == 0):\n",
    "    #     print('no merged data')\n",
    "    #     return merged_df\n",
    "    \n",
    "    times = 1.00 / merged_df.agg(F.mode('mets')).first()[0] # mode calculation returns sth different from pandas\n",
    "    merged_df = merged_df.withColumn('mets', F.col('mets') * times)\n",
    "    \n",
    "    return merged_df\n",
    "\n",
    "merged_df = get_mets(heart_rate_df, calorie_df,weight_df)\n",
    "merged_df.show()\n"
   ]
  },
  {
   "cell_type": "markdown",
   "metadata": {},
   "source": [
    "# Calculate Active hours"
   ]
  },
  {
   "cell_type": "code",
   "execution_count": 11,
   "metadata": {},
   "outputs": [
    {
     "name": "stderr",
     "output_type": "stream",
     "text": [
      "[Stage 69:>                                                         (0 + 1) / 1]\r"
     ]
    },
    {
     "name": "stdout",
     "output_type": "stream",
     "text": [
      "+----------+-------------+------------------+--------------+-------------+-----------+------------------+-------------+\n",
      "|      date|mets_category|         sedentary|lightly_active|fairly_active|very_active|      total_active|non-sedentary|\n",
      "+----------+-------------+------------------+--------------+-------------+-----------+------------------+-------------+\n",
      "|2024-01-01|    sedentary|0.4166666666666667|             0|            0|          0|0.4166666666666667|            0|\n",
      "|2024-01-02|    sedentary|0.4166666666666667|             0|            0|          0|0.4166666666666667|            0|\n",
      "|2024-01-03|    sedentary|0.4166666666666667|             0|            0|          0|0.4166666666666667|            0|\n",
      "|2024-01-04|    sedentary|0.4166666666666667|             0|            0|          0|0.4166666666666667|            0|\n",
      "|2024-01-05|    sedentary|0.4166666666666667|             0|            0|          0|0.4166666666666667|            0|\n",
      "|2024-01-06|    sedentary|0.4166666666666667|             0|            0|          0|0.4166666666666667|            0|\n",
      "|2024-01-07|    sedentary|0.4166666666666667|             0|            0|          0|0.4166666666666667|            0|\n",
      "|2024-01-08|    sedentary|0.4166666666666667|             0|            0|          0|0.4166666666666667|            0|\n",
      "|2024-01-09|    sedentary|0.4166666666666667|             0|            0|          0|0.4166666666666667|            0|\n",
      "|2024-01-10|    sedentary|0.4166666666666667|             0|            0|          0|0.4166666666666667|            0|\n",
      "|2024-01-11|    sedentary|0.4166666666666667|             0|            0|          0|0.4166666666666667|            0|\n",
      "|2024-01-12|    sedentary|0.4166666666666667|             0|            0|          0|0.4166666666666667|            0|\n",
      "|2024-01-13|    sedentary|0.4166666666666667|             0|            0|          0|0.4166666666666667|            0|\n",
      "|2024-01-14|    sedentary|0.4166666666666667|             0|            0|          0|0.4166666666666667|            0|\n",
      "|2024-01-15|    sedentary|0.4166666666666667|             0|            0|          0|0.4166666666666667|            0|\n",
      "|2024-01-16|    sedentary|0.4166666666666667|             0|            0|          0|0.4166666666666667|            0|\n",
      "|2024-01-17|    sedentary|0.4166666666666667|             0|            0|          0|0.4166666666666667|            0|\n",
      "|2024-01-18|    sedentary|0.4166666666666667|             0|            0|          0|0.4166666666666667|            0|\n",
      "|2024-01-19|    sedentary|0.4166666666666667|             0|            0|          0|0.4166666666666667|            0|\n",
      "|2024-01-20|    sedentary|0.4166666666666667|             0|            0|          0|0.4166666666666667|            0|\n",
      "+----------+-------------+------------------+--------------+-------------+-----------+------------------+-------------+\n",
      "only showing top 20 rows\n",
      "\n"
     ]
    },
    {
     "name": "stderr",
     "output_type": "stream",
     "text": [
      "                                                                                \r"
     ]
    }
   ],
   "source": [
    "def categorize_mets(merged_df):\n",
    "    def divide_mets(mets):\n",
    "        if mets < 1.5:\n",
    "            return 'sedentary'\n",
    "        elif 1.5 <= mets < 3.0:\n",
    "            return 'lightly_active'\n",
    "        elif 3.0 <= mets < 6.0:\n",
    "            return 'fairly_active'\n",
    "        else:\n",
    "            return 'very_active'\n",
    "            \n",
    "    divide_mets_udf = F.udf(lambda x:divide_mets(x), StringType()) \n",
    "    \n",
    "    merged_df =  merged_df.withColumn('mets_category', divide_mets_udf(F.col('mets')))\n",
    "    \n",
    "    # categorized by date and level\n",
    "    merged_df = merged_df.withColumn('time', F.substring(F.col('date_time'), 11, 9)) # get the time of day from date_time column\n",
    "    mets_df = merged_df.groupby(['date', 'mets_category']).agg((F.count('time')/60).alias('sedentary'))\n",
    "    # mets_df.columns.name = None\n",
    "\n",
    "    if 'sedentary' not in mets_df.columns:\n",
    "        mets_df = mets_df.withColumn('sedentary', F.lit(0)) \n",
    "    if 'lightly_active' not in mets_df.columns:\n",
    "        mets_df = mets_df.withColumn('lightly_active', F.lit(0)) \n",
    "    if 'fairly_active' not in mets_df.columns:\n",
    "        mets_df = mets_df.withColumn('fairly_active', F.lit(0)) \n",
    "    if 'very_active' not in mets_df.columns:\n",
    "        mets_df = mets_df.withColumn('very_active', F.lit(0)) \n",
    "        \n",
    "    mets_df = mets_df.withColumn('total_active', F.col('sedentary') + F.col('lightly_active') + F.col('fairly_active') + F.col('very_active'))\n",
    "    mets_df = mets_df.withColumn('non-sedentary', F.col('lightly_active') + F.col('fairly_active') + F.col('very_active'))    \n",
    "    mets_df = mets_df.orderBy('date')\n",
    "    return mets_df\n",
    "mets_df = categorize_mets(merged_df)\n",
    "mets_df.show()\n"
   ]
  },
  {
   "cell_type": "code",
   "execution_count": 12,
   "metadata": {},
   "outputs": [],
   "source": [
    "spark.stop()"
   ]
  },
  {
   "cell_type": "code",
   "execution_count": null,
   "metadata": {},
   "outputs": [],
   "source": []
  }
 ],
 "metadata": {
  "kernelspec": {
   "display_name": "Python 3 (ipykernel)",
   "language": "python",
   "name": "python3"
  },
  "language_info": {
   "codemirror_mode": {
    "name": "ipython",
    "version": 3
   },
   "file_extension": ".py",
   "mimetype": "text/x-python",
   "name": "python",
   "nbconvert_exporter": "python",
   "pygments_lexer": "ipython3",
   "version": "3.11.6"
  }
 },
 "nbformat": 4,
 "nbformat_minor": 4
}
